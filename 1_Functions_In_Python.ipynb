{
  "nbformat": 4,
  "nbformat_minor": 0,
  "metadata": {
    "colab": {
      "provenance": [],
      "include_colab_link": true
    },
    "kernelspec": {
      "name": "python3",
      "display_name": "Python 3"
    },
    "language_info": {
      "name": "python"
    }
  },
  "cells": [
    {
      "cell_type": "markdown",
      "metadata": {
        "id": "view-in-github",
        "colab_type": "text"
      },
      "source": [
        "<a href=\"https://colab.research.google.com/github/Dannydiv/Business-card/blob/main/1_Functions_In_Python.ipynb\" target=\"_parent\"><img src=\"https://colab.research.google.com/assets/colab-badge.svg\" alt=\"Open In Colab\"/></a>"
      ]
    },
    {
      "cell_type": "markdown",
      "source": [
        "# 🧩 Introduction to Functions in Python\n",
        "\n",
        "## 📘 Learning Objectives\n",
        "By the end of this notebook, you will be able to:\n",
        "- Understand what a function is and why it’s useful\n",
        "- Define and call simple functions\n",
        "- Use parameters and return values\n",
        "- Write clean and reusable code with functions\n",
        "\n",
        "---\n",
        "\n",
        "## 🤔 What is a Function?\n",
        "A **function** is a block of code that performs a specific task.\n",
        "You can run (or \"call\") it whenever you need it.\n",
        "\n",
        "Think of it like a **blender** — add ingredients (inputs), press a button (call the function), and get a smoothie (output)!\n",
        "\n",
        "🛠 **Tip:** Functions help you avoid repeating yourself and keep your code organized.\n",
        "\n",
        "---\n",
        "\n",
        "## 🔧 Defining and Calling a Function\n",
        "### ✅ Basic Structure:"
      ],
      "metadata": {
        "id": "QOkwPGPdXWiR"
      }
    },
    {
      "cell_type": "code",
      "source": [
        "def say_hello():\n",
        "    print(\"Hello!\")"
      ],
      "metadata": {
        "id": "ZlFzCXucXee2"
      },
      "execution_count": null,
      "outputs": []
    },
    {
      "cell_type": "markdown",
      "source": [
        "### ▶️ Calling the function:"
      ],
      "metadata": {
        "id": "Egff3pHiXi9N"
      }
    },
    {
      "cell_type": "code",
      "source": [
        "say_hello()"
      ],
      "metadata": {
        "id": "J756qVSaXmeJ"
      },
      "execution_count": null,
      "outputs": []
    },
    {
      "cell_type": "code",
      "source": [
        "def multiply(x, y):\n",
        "  return x * y"
      ],
      "metadata": {
        "id": "YB9rhN0IoMh_"
      },
      "execution_count": 4,
      "outputs": []
    },
    {
      "cell_type": "code",
      "source": [
        "multiply(10, 10)"
      ],
      "metadata": {
        "id": "L2vP8BZvouRd",
        "outputId": "b1a1ea9b-bba1-4881-a9f0-0578b84d6d8b",
        "colab": {
          "base_uri": "https://localhost:8080/"
        }
      },
      "execution_count": 5,
      "outputs": [
        {
          "output_type": "execute_result",
          "data": {
            "text/plain": [
              "100"
            ]
          },
          "metadata": {},
          "execution_count": 5
        }
      ]
    },
    {
      "cell_type": "markdown",
      "source": [
        "\n",
        "---\n",
        "\n",
        "## 🧑‍🍳 Using Parameters\n",
        "You can pass information into a function using **parameters**.\n",
        "\n",
        "### Example:"
      ],
      "metadata": {
        "id": "IsCQaAnuXmU3"
      }
    },
    {
      "cell_type": "code",
      "source": [
        "def greet(name):\n",
        "    print(\"Hello, \" + name + \"!\")\n",
        "\n",
        "greet(\"Segun\")\n",
        "greet(\"Tola\")"
      ],
      "metadata": {
        "id": "VJnXPcyxXmMn"
      },
      "execution_count": null,
      "outputs": []
    },
    {
      "cell_type": "markdown",
      "source": [
        "🛠 **Tip:** A parameter is like a label; the value you give it is called an **argument**.\n",
        "\n",
        "---\n",
        "\n",
        "## 🔁 Returning Values\n",
        "Functions can also **return** results you can use elsewhere.\n",
        "\n",
        "### Example:"
      ],
      "metadata": {
        "id": "3L5qHYH0X6_u"
      }
    },
    {
      "cell_type": "code",
      "source": [
        "def add(a, b):\n",
        "    return a + b\n",
        "\n",
        "result = add(3, 5)\n",
        "print(\"The sum is:\", result)"
      ],
      "metadata": {
        "id": "ep-I4CztX987"
      },
      "execution_count": null,
      "outputs": []
    },
    {
      "cell_type": "markdown",
      "source": [
        "🛠 **Tip:** Use `return` when you want to *send something back* from the function.\n",
        "\n",
        "---\n",
        "\n",
        "## 🔄 Function with Multiple Steps"
      ],
      "metadata": {
        "id": "trIO4vwRYFDt"
      }
    },
    {
      "cell_type": "code",
      "source": [
        "def calculate_area(length, width):\n",
        "    area = length * width\n",
        "    return area\n",
        "\n",
        "print(\"Room area:\", calculate_area(5, 3))"
      ],
      "metadata": {
        "id": "EENusBTdYYDc"
      },
      "execution_count": null,
      "outputs": []
    },
    {
      "cell_type": "markdown",
      "source": [
        "🛠 **Tip:** Use functions to group steps that belong together.\n",
        "\n",
        "---\n",
        "\n",
        "## 📝 Mini Exercise 1\n",
        "Create a function that prints \"Good morning!\" when called.\n",
        "\n",
        "### ✅ Example:"
      ],
      "metadata": {
        "id": "PfnX8u5rYbIN"
      }
    },
    {
      "cell_type": "code",
      "source": [
        "def say_good_morning():\n",
        "    print(\"Good morning!\")\n",
        "\n",
        "say_good_morning()"
      ],
      "metadata": {
        "id": "9OGx0h89Yey9"
      },
      "execution_count": null,
      "outputs": []
    },
    {
      "cell_type": "markdown",
      "source": [
        "---\n",
        "\n",
        "## 📝 Mini Exercise 2\n",
        "Write a function that takes a number and returns it doubled.\n",
        "\n",
        "### ✅ Example:"
      ],
      "metadata": {
        "id": "TKB3xNZlYhCf"
      }
    },
    {
      "cell_type": "code",
      "source": [
        "def double(number):\n",
        "    return number * 2\n",
        "\n",
        "print(double(6))"
      ],
      "metadata": {
        "id": "WMv-usXPXlg5"
      },
      "execution_count": null,
      "outputs": []
    },
    {
      "cell_type": "markdown",
      "source": [
        "\n",
        "---\n",
        "\n",
        "## ⚠️ Common Mistakes\n",
        "- ❌ Forgetting parentheses when calling a function: `greet` instead of `greet()`\n",
        "- ❌ Using `print` instead of `return` (or vice versa) depending on the use case\n",
        "- ❌ Not indenting the function body properly\n",
        "\n",
        "---\n",
        "\n",
        "## 🎯 Summary\n",
        "- ✅ Functions let you organize and reuse code\n",
        "- ✅ Use `def` to define a function\n",
        "- ✅ Parameters go inside the parentheses\n",
        "- ✅ Use `return` to give back a value\n",
        "- ✅ Call the function with `function_name()`\n",
        "\n",
        "---\n",
        "\n",
        "## 🚀 Optional Challenge\n",
        "Create a function called `triple_sum` that takes 3 numbers and returns their sum multiplied by 3.\n",
        "\n",
        "### ✅ Example:"
      ],
      "metadata": {
        "id": "b61ikW0_Yn-9"
      }
    },
    {
      "cell_type": "code",
      "source": [
        "def triple_sum(a, b, c):\n",
        "    return (a + b + c) * 3\n",
        "\n",
        "print(triple_sum(1, 2, 3))"
      ],
      "metadata": {
        "id": "X0ZYHU4bYxxV"
      },
      "execution_count": null,
      "outputs": []
    },
    {
      "cell_type": "markdown",
      "source": [
        "\n",
        "\n",
        "🎉 Great job! You're now ready to build smart, reusable code with functions!\n"
      ],
      "metadata": {
        "id": "r4bRDyr-Kkia"
      }
    }
  ]
}